{
 "cells": [
  {
   "cell_type": "markdown",
   "metadata": {},
   "source": [
    "# Nauka"
   ]
  },
  {
   "cell_type": "markdown",
   "metadata": {},
   "source": [
    "- Dejta srejta\n",
    "  - Kaggle\n",
    "    - Tutorial III\n",
    "    - bieżące\n",
    "  - Git, virtualenv, sklearn.pipeline, Python pickle, UDFs\n",
    "  - D3\n",
    "  - A-Z Machine Learning na Udemy\n",
    "- Makro\n",
    "- Krypto (x2)\n",
    "- Kosmologia i astronomia na Courserze i edX, Susskind na Stanfordzie"
   ]
  },
  {
   "cell_type": "markdown",
   "metadata": {
    "collapsed": true
   },
   "source": [
    "# Twórczość"
   ]
  }
 ],
 "metadata": {
  "anaconda-cloud": {},
  "kernelspec": {
   "display_name": "Python [default]",
   "language": "python",
   "name": "python3"
  },
  "language_info": {
   "codemirror_mode": {
    "name": "ipython",
    "version": 3
   },
   "file_extension": ".py",
   "mimetype": "text/x-python",
   "name": "python",
   "nbconvert_exporter": "python",
   "pygments_lexer": "ipython3",
   "version": "3.5.2"
  }
 },
 "nbformat": 4,
 "nbformat_minor": 1
}
