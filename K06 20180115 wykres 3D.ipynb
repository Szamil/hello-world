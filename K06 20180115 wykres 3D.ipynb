{
 "cells": [
  {
   "cell_type": "markdown",
   "metadata": {},
   "source": [
    "# Półprzewodniki"
   ]
  },
  {
   "cell_type": "markdown",
   "metadata": {},
   "source": [
    "<ol>\n",
    "    <li>[Biblioteki i ustawienia](#k_rozruch)</li>\n",
    "    <li>[Wczyt danych](#k_wczyt)</li>\n",
    "    <li>[Mielenie](#k_mielenie)</li>\n",
    "    <li>[Model](#k_model)</li>\n",
    "    <li>[Eksport](#k_eksport)</li>\n",
    "</ol>"
   ]
  },
  {
   "cell_type": "markdown",
   "metadata": {},
   "source": [
    "<a id='k_rozruch'></a>\n",
    "## Biblioteki i ustawienia"
   ]
  },
  {
   "cell_type": "code",
   "execution_count": 1,
   "metadata": {},
   "outputs": [],
   "source": [
    "import pandas as pd\n",
    "import numpy as np\n",
    "\n",
    "from sklearn.model_selection import train_test_split"
   ]
  },
  {
   "cell_type": "code",
   "execution_count": 2,
   "metadata": {},
   "outputs": [],
   "source": [
    "SEED = 26"
   ]
  },
  {
   "cell_type": "markdown",
   "metadata": {},
   "source": [
    "<a id='k_wczyt'></a>\n",
    "## Wczyt danych"
   ]
  },
  {
   "cell_type": "code",
   "execution_count": 3,
   "metadata": {},
   "outputs": [],
   "source": [
    "sciezka = 'C:/Users/Szamil/Documents/Projekty/Dejta_Sajens/K06_polprzewodniki/'\n",
    "plik = 'train.csv'\n",
    "\n",
    "train_df = pd.read_csv(sciezka + plik)\n",
    "\n",
    "plik = 'test.csv'\n",
    "\n",
    "test_df = pd.read_csv(sciezka + plik)"
   ]
  },
  {
   "cell_type": "code",
   "execution_count": 4,
   "metadata": {},
   "outputs": [
    {
     "data": {
      "text/html": [
       "<div>\n",
       "<style scoped>\n",
       "    .dataframe tbody tr th:only-of-type {\n",
       "        vertical-align: middle;\n",
       "    }\n",
       "\n",
       "    .dataframe tbody tr th {\n",
       "        vertical-align: top;\n",
       "    }\n",
       "\n",
       "    .dataframe thead th {\n",
       "        text-align: right;\n",
       "    }\n",
       "</style>\n",
       "<table border=\"1\" class=\"dataframe\">\n",
       "  <thead>\n",
       "    <tr style=\"text-align: right;\">\n",
       "      <th></th>\n",
       "      <th>id</th>\n",
       "      <th>spacegroup</th>\n",
       "      <th>number_of_total_atoms</th>\n",
       "      <th>percent_atom_al</th>\n",
       "      <th>percent_atom_ga</th>\n",
       "      <th>percent_atom_in</th>\n",
       "      <th>lattice_vector_1_ang</th>\n",
       "      <th>lattice_vector_2_ang</th>\n",
       "      <th>lattice_vector_3_ang</th>\n",
       "      <th>lattice_angle_alpha_degree</th>\n",
       "      <th>lattice_angle_beta_degree</th>\n",
       "      <th>lattice_angle_gamma_degree</th>\n",
       "      <th>formation_energy_ev_natom</th>\n",
       "      <th>bandgap_energy_ev</th>\n",
       "    </tr>\n",
       "  </thead>\n",
       "  <tbody>\n",
       "    <tr>\n",
       "      <th>0</th>\n",
       "      <td>1</td>\n",
       "      <td>33</td>\n",
       "      <td>80.0</td>\n",
       "      <td>0.6250</td>\n",
       "      <td>0.3750</td>\n",
       "      <td>0.000</td>\n",
       "      <td>9.9523</td>\n",
       "      <td>8.5513</td>\n",
       "      <td>9.1775</td>\n",
       "      <td>90.0026</td>\n",
       "      <td>90.0023</td>\n",
       "      <td>90.0017</td>\n",
       "      <td>0.0680</td>\n",
       "      <td>3.4387</td>\n",
       "    </tr>\n",
       "    <tr>\n",
       "      <th>1</th>\n",
       "      <td>2</td>\n",
       "      <td>194</td>\n",
       "      <td>80.0</td>\n",
       "      <td>0.6250</td>\n",
       "      <td>0.3750</td>\n",
       "      <td>0.000</td>\n",
       "      <td>6.1840</td>\n",
       "      <td>6.1838</td>\n",
       "      <td>23.6287</td>\n",
       "      <td>90.0186</td>\n",
       "      <td>89.9980</td>\n",
       "      <td>120.0025</td>\n",
       "      <td>0.2490</td>\n",
       "      <td>2.9210</td>\n",
       "    </tr>\n",
       "    <tr>\n",
       "      <th>2</th>\n",
       "      <td>3</td>\n",
       "      <td>227</td>\n",
       "      <td>40.0</td>\n",
       "      <td>0.8125</td>\n",
       "      <td>0.1875</td>\n",
       "      <td>0.000</td>\n",
       "      <td>9.7510</td>\n",
       "      <td>5.6595</td>\n",
       "      <td>13.9630</td>\n",
       "      <td>90.9688</td>\n",
       "      <td>91.1228</td>\n",
       "      <td>30.5185</td>\n",
       "      <td>0.1821</td>\n",
       "      <td>2.7438</td>\n",
       "    </tr>\n",
       "    <tr>\n",
       "      <th>3</th>\n",
       "      <td>4</td>\n",
       "      <td>167</td>\n",
       "      <td>30.0</td>\n",
       "      <td>0.7500</td>\n",
       "      <td>0.0000</td>\n",
       "      <td>0.250</td>\n",
       "      <td>5.0036</td>\n",
       "      <td>5.0034</td>\n",
       "      <td>13.5318</td>\n",
       "      <td>89.9888</td>\n",
       "      <td>90.0119</td>\n",
       "      <td>120.0017</td>\n",
       "      <td>0.2172</td>\n",
       "      <td>3.3492</td>\n",
       "    </tr>\n",
       "    <tr>\n",
       "      <th>4</th>\n",
       "      <td>5</td>\n",
       "      <td>194</td>\n",
       "      <td>80.0</td>\n",
       "      <td>0.0000</td>\n",
       "      <td>0.6250</td>\n",
       "      <td>0.375</td>\n",
       "      <td>6.6614</td>\n",
       "      <td>6.6612</td>\n",
       "      <td>24.5813</td>\n",
       "      <td>89.9960</td>\n",
       "      <td>90.0006</td>\n",
       "      <td>119.9893</td>\n",
       "      <td>0.0505</td>\n",
       "      <td>1.3793</td>\n",
       "    </tr>\n",
       "  </tbody>\n",
       "</table>\n",
       "</div>"
      ],
      "text/plain": [
       "   id  spacegroup  number_of_total_atoms  percent_atom_al  percent_atom_ga  \\\n",
       "0   1          33                   80.0           0.6250           0.3750   \n",
       "1   2         194                   80.0           0.6250           0.3750   \n",
       "2   3         227                   40.0           0.8125           0.1875   \n",
       "3   4         167                   30.0           0.7500           0.0000   \n",
       "4   5         194                   80.0           0.0000           0.6250   \n",
       "\n",
       "   percent_atom_in  lattice_vector_1_ang  lattice_vector_2_ang  \\\n",
       "0            0.000                9.9523                8.5513   \n",
       "1            0.000                6.1840                6.1838   \n",
       "2            0.000                9.7510                5.6595   \n",
       "3            0.250                5.0036                5.0034   \n",
       "4            0.375                6.6614                6.6612   \n",
       "\n",
       "   lattice_vector_3_ang  lattice_angle_alpha_degree  \\\n",
       "0                9.1775                     90.0026   \n",
       "1               23.6287                     90.0186   \n",
       "2               13.9630                     90.9688   \n",
       "3               13.5318                     89.9888   \n",
       "4               24.5813                     89.9960   \n",
       "\n",
       "   lattice_angle_beta_degree  lattice_angle_gamma_degree  \\\n",
       "0                    90.0023                     90.0017   \n",
       "1                    89.9980                    120.0025   \n",
       "2                    91.1228                     30.5185   \n",
       "3                    90.0119                    120.0017   \n",
       "4                    90.0006                    119.9893   \n",
       "\n",
       "   formation_energy_ev_natom  bandgap_energy_ev  \n",
       "0                     0.0680             3.4387  \n",
       "1                     0.2490             2.9210  \n",
       "2                     0.1821             2.7438  \n",
       "3                     0.2172             3.3492  \n",
       "4                     0.0505             1.3793  "
      ]
     },
     "execution_count": 4,
     "metadata": {},
     "output_type": "execute_result"
    }
   ],
   "source": [
    "train_df.head()"
   ]
  },
  {
   "cell_type": "code",
   "execution_count": 5,
   "metadata": {
    "scrolled": true
   },
   "outputs": [
    {
     "data": {
      "text/plain": [
       "((2400, 14), (600, 12))"
      ]
     },
     "execution_count": 5,
     "metadata": {},
     "output_type": "execute_result"
    }
   ],
   "source": [
    "train_df.shape, test_df.shape"
   ]
  },
  {
   "cell_type": "code",
   "execution_count": 6,
   "metadata": {
    "scrolled": true
   },
   "outputs": [
    {
     "name": "stdout",
     "output_type": "stream",
     "text": [
      "<class 'pandas.core.frame.DataFrame'>\n",
      "RangeIndex: 2400 entries, 0 to 2399\n",
      "Data columns (total 14 columns):\n",
      "id                            2400 non-null int64\n",
      "spacegroup                    2400 non-null int64\n",
      "number_of_total_atoms         2400 non-null float64\n",
      "percent_atom_al               2400 non-null float64\n",
      "percent_atom_ga               2400 non-null float64\n",
      "percent_atom_in               2400 non-null float64\n",
      "lattice_vector_1_ang          2400 non-null float64\n",
      "lattice_vector_2_ang          2400 non-null float64\n",
      "lattice_vector_3_ang          2400 non-null float64\n",
      "lattice_angle_alpha_degree    2400 non-null float64\n",
      "lattice_angle_beta_degree     2400 non-null float64\n",
      "lattice_angle_gamma_degree    2400 non-null float64\n",
      "formation_energy_ev_natom     2400 non-null float64\n",
      "bandgap_energy_ev             2400 non-null float64\n",
      "dtypes: float64(12), int64(2)\n",
      "memory usage: 262.6 KB\n"
     ]
    }
   ],
   "source": [
    "train_df.info(True, null_counts=True)"
   ]
  },
  {
   "cell_type": "code",
   "execution_count": 7,
   "metadata": {},
   "outputs": [],
   "source": [
    "#test_df.info(True, null_counts=True)"
   ]
  },
  {
   "cell_type": "markdown",
   "metadata": {},
   "source": [
    "<a id='k_mielenie'></a>\n",
    "## Mielenie"
   ]
  },
  {
   "cell_type": "markdown",
   "metadata": {},
   "source": [
    "### Dodanie szczegółowych"
   ]
  },
  {
   "cell_type": "code",
   "execution_count": 8,
   "metadata": {},
   "outputs": [],
   "source": [
    "def wczyt(t,i):\n",
    "    \n",
    "    sciezka = 'C:/Users/Szamil/Documents/Projekty/Dejta_Sajens/K06_polprzewodniki/' + t + '/' + str(i) + '/'\n",
    "    plik = 'geometry.xyz'\n",
    "\n",
    "    kolumny = ['co','x','y','z','pierwiastek']\n",
    "    geometry_df = pd.read_csv(sciezka + plik, sep=' ', skiprows=3, header=None, names=kolumny)\n",
    "\n",
    "    return geometry_df"
   ]
  },
  {
   "cell_type": "code",
   "execution_count": 9,
   "metadata": {},
   "outputs": [],
   "source": [
    "def wyliczAggr(i, df):\n",
    "    \n",
    "    lv1x = df.iloc[0,1]\n",
    "    lv1y = df.iloc[0,2]\n",
    "    lv1z = df.iloc[0,3]\n",
    "    lv2x = df.iloc[1,1]\n",
    "    lv2y = df.iloc[1,2]\n",
    "    lv2z = df.iloc[1,3]\n",
    "    lv3x = df.iloc[2,1]\n",
    "    lv3y = df.iloc[2,2]\n",
    "    lv3z = df.iloc[2,3]\n",
    "\n",
    "    pierwiastek_avg_x = df.groupby(['pierwiastek'])['x'].mean()\n",
    "    pierwiastek_avg_y = df.groupby(['pierwiastek'])['y'].mean()\n",
    "    pierwiastek_avg_z = df.groupby(['pierwiastek'])['z'].mean()\n",
    "    pierwiastek_std_x = df.groupby(['pierwiastek'])['x'].std()\n",
    "    pierwiastek_std_y = df.groupby(['pierwiastek'])['y'].std()\n",
    "    pierwiastek_std_z = df.groupby(['pierwiastek'])['z'].std()\n",
    "\n",
    "    co_avg_x = df.groupby(['co'])['x'].mean()\n",
    "    co_avg_y = df.groupby(['co'])['y'].mean()\n",
    "    co_avg_z = df.groupby(['co'])['z'].mean()\n",
    "    co_std_x = df.groupby(['co'])['x'].std()\n",
    "    co_std_y = df.groupby(['co'])['y'].std()\n",
    "    co_std_z = df.groupby(['co'])['z'].std()\n",
    "\n",
    "    lv_x_avg = co_avg_x.loc['lattice_vector']\n",
    "    atom_x_avg = co_avg_x.loc['atom']\n",
    "    lv_y_avg = co_avg_y.loc['lattice_vector']\n",
    "    atom_y_avg = co_avg_y.loc['atom']\n",
    "    lv_z_avg = co_avg_z.loc['lattice_vector']\n",
    "    atom_z_avg = co_avg_z.loc['atom']\n",
    "\n",
    "    lv_x_std = co_std_x.loc['lattice_vector']\n",
    "    atom_x_std = co_std_x.loc['atom']\n",
    "    lv_y_std = co_std_y.loc['lattice_vector']\n",
    "    atom_y_std = co_std_y.loc['atom']\n",
    "    lv_z_std = co_std_z.loc['lattice_vector']\n",
    "    atom_z_std = co_std_z.loc['atom']\n",
    "\n",
    "    try:\n",
    "        al_x_avg = pierwiastek_avg_x.loc['Al']\n",
    "        al_x_std = pierwiastek_std_x.loc['Al']\n",
    "        al_y_avg = pierwiastek_avg_y.loc['Al']\n",
    "        al_y_std = pierwiastek_std_y.loc['Al']\n",
    "        al_z_avg = pierwiastek_avg_z.loc['Al']\n",
    "        al_z_std = pierwiastek_std_z.loc['Al']\n",
    "    except:\n",
    "        al_x_avg = np.nan\n",
    "        al_x_std = np.nan\n",
    "        al_y_avg = np.nan\n",
    "        al_y_std = np.nan\n",
    "        al_z_avg = np.nan\n",
    "        al_z_std = np.nan\n",
    "    try:\n",
    "        ga_x_avg = pierwiastek_avg_x.loc['Ga']\n",
    "        ga_x_std = pierwiastek_std_x.loc['Ga']\n",
    "        ga_y_avg = pierwiastek_avg_y.loc['Ga']\n",
    "        ga_y_std = pierwiastek_std_y.loc['Ga']\n",
    "        ga_z_avg = pierwiastek_avg_z.loc['Ga']\n",
    "        ga_z_std = pierwiastek_std_z.loc['Ga']\n",
    "    except:\n",
    "        ga_x_avg = np.nan\n",
    "        ga_x_std = np.nan\n",
    "        ga_y_avg = np.nan\n",
    "        ga_y_std = np.nan\n",
    "        ga_z_avg = np.nan\n",
    "        ga_z_std = np.nan\n",
    "    try:\n",
    "        o_x_avg = pierwiastek_avg_x.loc['O']\n",
    "        o_x_std = pierwiastek_std_x.loc['O']\n",
    "        o_y_avg = pierwiastek_avg_y.loc['O']\n",
    "        o_y_std = pierwiastek_std_y.loc['O']\n",
    "        o_z_avg = pierwiastek_avg_z.loc['O']\n",
    "        o_z_std = pierwiastek_std_z.loc['O']\n",
    "    except:    \n",
    "        o_x_avg = np.nan\n",
    "        o_x_std = np.nan\n",
    "        o_y_avg = np.nan\n",
    "        o_y_std = np.nan\n",
    "        o_z_avg = np.nan\n",
    "        o_z_std = np.nan\n",
    "\n",
    "    return (i, lv1x, lv1y, lv1z, lv2x, lv2y, lv2z, lv3x, lv3y, lv3z, lv_x_avg, atom_x_avg, lv_y_avg, atom_y_avg, lv_z_avg, atom_z_avg, lv_x_std, atom_x_std, lv_y_std, atom_y_std, lv_z_std, atom_z_std, al_x_avg, ga_x_avg, o_x_avg, al_y_avg, ga_y_avg, o_y_avg, al_z_avg, ga_z_avg, o_z_avg, al_x_std, ga_x_std, o_x_std, al_y_std, ga_y_std, o_y_std, al_z_std, ga_z_std, o_z_std)"
   ]
  },
  {
   "cell_type": "code",
   "execution_count": 10,
   "metadata": {},
   "outputs": [],
   "source": [
    "train_geo_aggr_list = []\n",
    "\n",
    "for p in range(0, len(train_df)):\n",
    "    i = p+1\n",
    "    tmp_geometry_df = wczyt('train', i)\n",
    "    tmp_aggr = wyliczAggr(i, tmp_geometry_df)\n",
    "    train_geo_aggr_list.append(tmp_aggr)\n",
    "\n",
    "test_geo_aggr_list = []\n",
    "    \n",
    "for p in range(0, len(test_df)):\n",
    "    i = p+1\n",
    "    tmp_geometry_df = wczyt('test', i)\n",
    "    tmp_aggr = wyliczAggr(i, tmp_geometry_df)\n",
    "    test_geo_aggr_list.append(tmp_aggr)\n",
    "\n",
    "    \n",
    "kolumny = ['id', 'lv1x', 'lv1y', 'lv1z', 'lv2x', 'lv2y', 'lv2z', 'lv3x', 'lv3y', 'lv3z', 'lv_x_avg', 'atom_x_avg', 'lv_y_avg', 'atom_y_avg', 'lv_z_avg', 'atom_z_avg', 'lv_x_std', 'atom_x_std', 'lv_y_std', 'atom_y_std', 'lv_z_std', 'atom_z_std', 'al_x_avg', 'ga_x_avg', 'o_x_avg', 'al_y_avg', 'ga_y_avg', 'o_y_avg', 'al_z_avg', 'ga_z_avg', 'o_z_avg', 'al_x_std', 'ga_x_std', 'o_x_std', 'al_y_std', 'ga_y_std', 'o_y_std', 'al_z_std', 'ga_z_std', 'o_z_std']\n",
    "\n",
    "train_geo_aggr_df = pd.DataFrame(train_geo_aggr_list, columns = kolumny)\n",
    "test_geo_aggr_df = pd.DataFrame(test_geo_aggr_list, columns = kolumny)"
   ]
  },
  {
   "cell_type": "code",
   "execution_count": 11,
   "metadata": {},
   "outputs": [
    {
     "data": {
      "text/plain": [
       "((2400, 53), (600, 51))"
      ]
     },
     "execution_count": 11,
     "metadata": {},
     "output_type": "execute_result"
    }
   ],
   "source": [
    "big_train_df = train_df.merge(train_geo_aggr_df, on='id')\n",
    "big_test_df = test_df.merge(test_geo_aggr_df, on='id')\n",
    "big_train_df.shape, big_test_df.shape"
   ]
  },
  {
   "cell_type": "markdown",
   "metadata": {},
   "source": [
    "Wypełnianie braków"
   ]
  },
  {
   "cell_type": "code",
   "execution_count": 12,
   "metadata": {},
   "outputs": [],
   "source": [
    "big_train_df.fillna(-99, inplace=True)\n",
    "big_test_df.fillna(-99, inplace=True)"
   ]
  },
  {
   "cell_type": "code",
   "execution_count": 13,
   "metadata": {},
   "outputs": [
    {
     "data": {
      "text/plain": [
       "((1920, 50), (480, 50), (600, 50), (1920, 2), (480, 2))"
      ]
     },
     "execution_count": 13,
     "metadata": {},
     "output_type": "execute_result"
    }
   ],
   "source": [
    "# Podzial na uczacy, walidacyjny i testowy\n",
    "\n",
    "X_train, X_valid, y_train, y_valid = train_test_split(\n",
    "    big_train_df.loc[:, ~big_train_df.columns.isin(['id','formation_energy_ev_natom','bandgap_energy_ev']) ], \n",
    "    big_train_df.loc[:,['formation_energy_ev_natom','bandgap_energy_ev']],\n",
    "    test_size=0.2, random_state=SEED)\n",
    "\n",
    "X_test = big_test_df.iloc[:,1:]\n",
    "\n",
    "X_train.shape, X_valid.shape, X_test.shape, y_train.shape, y_valid.shape"
   ]
  },
  {
   "cell_type": "markdown",
   "metadata": {},
   "source": [
    "### Max"
   ]
  },
  {
   "cell_type": "code",
   "execution_count": 69,
   "metadata": {},
   "outputs": [],
   "source": [
    "train_minmax_list = []\n",
    "    \n",
    "for p in range(0, len(train_df)):\n",
    "    i = p+1\n",
    "    tmp_geometry_df = wczyt('train', i)\n",
    "    tmp_geometry_df2 = tmp_geometry_df.loc[tmp_geometry_df['co']=='atom']\n",
    "    tmp_minmax = (i, tmp_geometry_df2['x'].max(), tmp_geometry_df2['y'].max(), tmp_geometry_df2['z'].max()\n",
    "                 , tmp_geometry_df2['x'].min(), tmp_geometry_df2['y'].min(), tmp_geometry_df2['z'].min())\n",
    "    train_minmax_list.append(tmp_minmax)    \n",
    "    \n",
    "train_minmax_df = pd.DataFrame(train_minmax_list, columns = ['id','max_x','max_y','max_z','min_x','min_y','min_z'])"
   ]
  },
  {
   "cell_type": "code",
   "execution_count": 72,
   "metadata": {},
   "outputs": [
    {
     "data": {
      "text/plain": [
       "3"
      ]
     },
     "execution_count": 72,
     "metadata": {},
     "output_type": "execute_result"
    }
   ],
   "source": [
    "a = 2\n",
    "a += 1\n",
    "a"
   ]
  },
  {
   "cell_type": "code",
   "execution_count": 71,
   "metadata": {},
   "outputs": [
    {
     "data": {
      "text/plain": [
       "(id       1.000000\n",
       " max_x    0.916272\n",
       " max_y    1.374448\n",
       " max_z    4.929735\n",
       " min_x   -2.067313\n",
       " min_y   -0.277155\n",
       " min_z   -0.702511\n",
       " dtype: float64, id       2400.000000\n",
       " max_x      24.506870\n",
       " max_y       9.938675\n",
       " max_z      24.295771\n",
       " min_x       1.010880\n",
       " min_y       0.621624\n",
       " min_z       1.348378\n",
       " dtype: float64)"
      ]
     },
     "execution_count": 71,
     "metadata": {},
     "output_type": "execute_result"
    }
   ],
   "source": [
    "train_minmax_df.min(), train_minmax_df.max()"
   ]
  },
  {
   "cell_type": "markdown",
   "metadata": {},
   "source": [
    "### 3D"
   ]
  },
  {
   "cell_type": "code",
   "execution_count": 73,
   "metadata": {},
   "outputs": [],
   "source": [
    "tmp_geometry_df = wczyt('train', 4)"
   ]
  },
  {
   "cell_type": "code",
   "execution_count": 36,
   "metadata": {},
   "outputs": [
    {
     "data": {
      "text/html": [
       "<div>\n",
       "<style scoped>\n",
       "    .dataframe tbody tr th:only-of-type {\n",
       "        vertical-align: middle;\n",
       "    }\n",
       "\n",
       "    .dataframe tbody tr th {\n",
       "        vertical-align: top;\n",
       "    }\n",
       "\n",
       "    .dataframe thead th {\n",
       "        text-align: right;\n",
       "    }\n",
       "</style>\n",
       "<table border=\"1\" class=\"dataframe\">\n",
       "  <thead>\n",
       "    <tr style=\"text-align: right;\">\n",
       "      <th></th>\n",
       "      <th>co</th>\n",
       "      <th>x</th>\n",
       "      <th>y</th>\n",
       "      <th>z</th>\n",
       "      <th>pierwiastek</th>\n",
       "    </tr>\n",
       "  </thead>\n",
       "  <tbody>\n",
       "    <tr>\n",
       "      <th>0</th>\n",
       "      <td>lattice_vector</td>\n",
       "      <td>5.003557</td>\n",
       "      <td>0.024477</td>\n",
       "      <td>0.003776</td>\n",
       "      <td>NaN</td>\n",
       "    </tr>\n",
       "    <tr>\n",
       "      <th>1</th>\n",
       "      <td>lattice_vector</td>\n",
       "      <td>-2.522969</td>\n",
       "      <td>4.320664</td>\n",
       "      <td>-0.006625</td>\n",
       "      <td>NaN</td>\n",
       "    </tr>\n",
       "    <tr>\n",
       "      <th>2</th>\n",
       "      <td>lattice_vector</td>\n",
       "      <td>-0.013103</td>\n",
       "      <td>0.016168</td>\n",
       "      <td>13.531761</td>\n",
       "      <td>NaN</td>\n",
       "    </tr>\n",
       "    <tr>\n",
       "      <th>3</th>\n",
       "      <td>atom</td>\n",
       "      <td>-0.001900</td>\n",
       "      <td>0.002344</td>\n",
       "      <td>1.962105</td>\n",
       "      <td>Al</td>\n",
       "    </tr>\n",
       "    <tr>\n",
       "      <th>4</th>\n",
       "      <td>atom</td>\n",
       "      <td>-0.008452</td>\n",
       "      <td>0.010428</td>\n",
       "      <td>8.727986</td>\n",
       "      <td>In</td>\n",
       "    </tr>\n",
       "  </tbody>\n",
       "</table>\n",
       "</div>"
      ],
      "text/plain": [
       "               co         x         y          z pierwiastek\n",
       "0  lattice_vector  5.003557  0.024477   0.003776         NaN\n",
       "1  lattice_vector -2.522969  4.320664  -0.006625         NaN\n",
       "2  lattice_vector -0.013103  0.016168  13.531761         NaN\n",
       "3            atom -0.001900  0.002344   1.962105          Al\n",
       "4            atom -0.008452  0.010428   8.727986          In"
      ]
     },
     "execution_count": 36,
     "metadata": {},
     "output_type": "execute_result"
    }
   ],
   "source": [
    "tmp_geometry_df.head()"
   ]
  },
  {
   "cell_type": "code",
   "execution_count": 74,
   "metadata": {
    "scrolled": true
   },
   "outputs": [],
   "source": [
    "tmp_geometry_df2 = tmp_geometry_df.loc[tmp_geometry_df['co']=='atom']"
   ]
  },
  {
   "cell_type": "code",
   "execution_count": 26,
   "metadata": {},
   "outputs": [],
   "source": [
    "import plotly.plotly as py\n",
    "import plotly.graph_objs as go\n",
    "from plotly.offline import init_notebook_mode, iplot\n",
    "init_notebook_mode(connected = True)"
   ]
  },
  {
   "cell_type": "code",
   "execution_count": 75,
   "metadata": {},
   "outputs": [
    {
     "data": {
      "application/vnd.plotly.v1+json": {
       "data": [
        {
         "marker": {
          "color": "blue",
          "colorscale": "Viridis",
          "opacity": 0.8,
          "size": 12
         },
         "mode": "markers",
         "name": "Al",
         "type": "scatter3d",
         "x": [
          -0.00189997705,
          -0.01120331295,
          -0.00465166795,
          2.4818958630820984,
          2.485695817182098,
          -0.024762342182098,
          -0.018210697182098,
          -0.020962388082098,
          -0.014410743082098
         ],
         "y": [
          0.00234434405,
          0.01382354595,
          0.00573960095,
          1.4723567013421477,
          1.4676680132421476,
          2.9017246917578525,
          2.893640746757853,
          2.8970360036578526,
          2.8889520586578525
         ],
         "z": [
          1.9621053624,
          11.5696557576,
          4.8037751976,
          13.238881967328798,
          9.314671242528798,
          10.980121707471206,
          4.214241147471202,
          7.055910982671201,
          0.2900304226712021
         ]
        },
        {
         "marker": {
          "color": "red",
          "colorscale": "Viridis",
          "opacity": 0.8,
          "size": 12
         },
         "mode": "markers",
         "name": "Ga",
         "type": "scatter3d",
         "x": [],
         "y": [],
         "z": []
        },
        {
         "marker": {
          "color": "green",
          "colorscale": "Viridis",
          "opacity": 0.8,
          "size": 12
         },
         "mode": "markers",
         "name": "In",
         "type": "scatter3d",
         "x": [
          -0.00845162205,
          2.4884475080820985,
          2.4922474621820982
         ],
         "y": [
          0.01042828905,
          1.4642727563421476,
          1.4595840682421477
         ],
         "z": [
          8.7279859224,
          6.473001407328798,
          2.548790682528798
         ]
        },
        {
         "marker": {
          "color": "yellow",
          "colorscale": "Viridis",
          "opacity": 0.8,
          "size": 12
         },
         "mode": "markers",
         "name": "O",
         "type": "scatter3d",
         "x": [
          1.51280202728,
          1.72569429927,
          -0.76773538405,
          0.7417908207300001,
          -1.7683367559499998,
          3.47765194272,
          4.003149512412096,
          1.735453374402098,
          1.722612101082098,
          3.245241595862097,
          3.258082869182098,
          0.9775454578520982,
          1.4899396621479024,
          -0.777756475862098,
          -0.790597749182098,
          0.7320317455979023,
          0.7448730189179019,
          -1.5356643924120978
         ],
         "y": [
          0.01145835806,
          3.03260515889,
          1.31320327055,
          1.32870360111,
          3.0236289694500003,
          0.02918605194,
          1.4733867703521475,
          0.1493927011821476,
          2.775131682842148,
          2.774464123402148,
          0.1487251417421476,
          1.4504700542321478,
          2.9108387057678526,
          1.5868446365978526,
          4.212583618257852,
          4.211916058817852,
          1.5861770771578527,
          2.8879219896478525
         ],
         "z": [
          3.38408437164,
          3.38095471519,
          3.3809330231700003,
          10.14795767481,
          10.14420348683,
          10.15145262836,
          7.894980416568797,
          7.894699490118798,
          7.891829068098798,
          1.127092599738798,
          1.129963021758798,
          1.1268116732887978,
          12.402100716711203,
          12.401819790261202,
          12.398949368241203,
          5.634212899881201,
          5.637083321901201,
          5.633931973431203
         ]
        }
       ],
       "layout": {
        "margin": {
         "b": 0,
         "l": 0,
         "r": 0,
         "t": 0
        }
       }
      },
      "text/html": [
       "<div id=\"dd7ea101-729a-4e9e-a652-05c5d1c93139\" style=\"height: 525px; width: 100%;\" class=\"plotly-graph-div\"></div><script type=\"text/javascript\">require([\"plotly\"], function(Plotly) { window.PLOTLYENV=window.PLOTLYENV || {};window.PLOTLYENV.BASE_URL=\"https://plot.ly\";Plotly.newPlot(\"dd7ea101-729a-4e9e-a652-05c5d1c93139\", [{\"type\": \"scatter3d\", \"x\": [-0.00189997705, -0.01120331295, -0.00465166795, 2.4818958630820984, 2.485695817182098, -0.024762342182098, -0.018210697182098, -0.020962388082098, -0.014410743082098], \"y\": [0.00234434405, 0.01382354595, 0.00573960095, 1.4723567013421477, 1.4676680132421476, 2.9017246917578525, 2.893640746757853, 2.8970360036578526, 2.8889520586578525], \"z\": [1.9621053624, 11.5696557576, 4.8037751976, 13.238881967328798, 9.314671242528798, 10.980121707471206, 4.214241147471202, 7.055910982671201, 0.2900304226712021], \"mode\": \"markers\", \"name\": \"Al\", \"marker\": {\"size\": 12, \"color\": \"blue\", \"colorscale\": \"Viridis\", \"opacity\": 0.8}}, {\"type\": \"scatter3d\", \"x\": [], \"y\": [], \"z\": [], \"mode\": \"markers\", \"name\": \"Ga\", \"marker\": {\"size\": 12, \"color\": \"red\", \"colorscale\": \"Viridis\", \"opacity\": 0.8}}, {\"type\": \"scatter3d\", \"x\": [-0.00845162205, 2.4884475080820985, 2.4922474621820982], \"y\": [0.01042828905, 1.4642727563421476, 1.4595840682421477], \"z\": [8.7279859224, 6.473001407328798, 2.548790682528798], \"mode\": \"markers\", \"name\": \"In\", \"marker\": {\"size\": 12, \"color\": \"green\", \"colorscale\": \"Viridis\", \"opacity\": 0.8}}, {\"type\": \"scatter3d\", \"x\": [1.51280202728, 1.72569429927, -0.76773538405, 0.7417908207300001, -1.7683367559499998, 3.47765194272, 4.003149512412096, 1.735453374402098, 1.722612101082098, 3.245241595862097, 3.258082869182098, 0.9775454578520982, 1.4899396621479024, -0.777756475862098, -0.790597749182098, 0.7320317455979023, 0.7448730189179019, -1.5356643924120978], \"y\": [0.01145835806, 3.03260515889, 1.31320327055, 1.32870360111, 3.0236289694500003, 0.02918605194, 1.4733867703521475, 0.1493927011821476, 2.775131682842148, 2.774464123402148, 0.1487251417421476, 1.4504700542321478, 2.9108387057678526, 1.5868446365978526, 4.212583618257852, 4.211916058817852, 1.5861770771578527, 2.8879219896478525], \"z\": [3.38408437164, 3.38095471519, 3.3809330231700003, 10.14795767481, 10.14420348683, 10.15145262836, 7.894980416568797, 7.894699490118798, 7.891829068098798, 1.127092599738798, 1.129963021758798, 1.1268116732887978, 12.402100716711203, 12.401819790261202, 12.398949368241203, 5.634212899881201, 5.637083321901201, 5.633931973431203], \"mode\": \"markers\", \"name\": \"O\", \"marker\": {\"size\": 12, \"color\": \"yellow\", \"colorscale\": \"Viridis\", \"opacity\": 0.8}}], {\"margin\": {\"l\": 0, \"r\": 0, \"b\": 0, \"t\": 0}}, {\"showLink\": true, \"linkText\": \"Export to plot.ly\"})});</script>"
      ],
      "text/vnd.plotly.v1+html": [
       "<div id=\"dd7ea101-729a-4e9e-a652-05c5d1c93139\" style=\"height: 525px; width: 100%;\" class=\"plotly-graph-div\"></div><script type=\"text/javascript\">require([\"plotly\"], function(Plotly) { window.PLOTLYENV=window.PLOTLYENV || {};window.PLOTLYENV.BASE_URL=\"https://plot.ly\";Plotly.newPlot(\"dd7ea101-729a-4e9e-a652-05c5d1c93139\", [{\"type\": \"scatter3d\", \"x\": [-0.00189997705, -0.01120331295, -0.00465166795, 2.4818958630820984, 2.485695817182098, -0.024762342182098, -0.018210697182098, -0.020962388082098, -0.014410743082098], \"y\": [0.00234434405, 0.01382354595, 0.00573960095, 1.4723567013421477, 1.4676680132421476, 2.9017246917578525, 2.893640746757853, 2.8970360036578526, 2.8889520586578525], \"z\": [1.9621053624, 11.5696557576, 4.8037751976, 13.238881967328798, 9.314671242528798, 10.980121707471206, 4.214241147471202, 7.055910982671201, 0.2900304226712021], \"mode\": \"markers\", \"name\": \"Al\", \"marker\": {\"size\": 12, \"color\": \"blue\", \"colorscale\": \"Viridis\", \"opacity\": 0.8}}, {\"type\": \"scatter3d\", \"x\": [], \"y\": [], \"z\": [], \"mode\": \"markers\", \"name\": \"Ga\", \"marker\": {\"size\": 12, \"color\": \"red\", \"colorscale\": \"Viridis\", \"opacity\": 0.8}}, {\"type\": \"scatter3d\", \"x\": [-0.00845162205, 2.4884475080820985, 2.4922474621820982], \"y\": [0.01042828905, 1.4642727563421476, 1.4595840682421477], \"z\": [8.7279859224, 6.473001407328798, 2.548790682528798], \"mode\": \"markers\", \"name\": \"In\", \"marker\": {\"size\": 12, \"color\": \"green\", \"colorscale\": \"Viridis\", \"opacity\": 0.8}}, {\"type\": \"scatter3d\", \"x\": [1.51280202728, 1.72569429927, -0.76773538405, 0.7417908207300001, -1.7683367559499998, 3.47765194272, 4.003149512412096, 1.735453374402098, 1.722612101082098, 3.245241595862097, 3.258082869182098, 0.9775454578520982, 1.4899396621479024, -0.777756475862098, -0.790597749182098, 0.7320317455979023, 0.7448730189179019, -1.5356643924120978], \"y\": [0.01145835806, 3.03260515889, 1.31320327055, 1.32870360111, 3.0236289694500003, 0.02918605194, 1.4733867703521475, 0.1493927011821476, 2.775131682842148, 2.774464123402148, 0.1487251417421476, 1.4504700542321478, 2.9108387057678526, 1.5868446365978526, 4.212583618257852, 4.211916058817852, 1.5861770771578527, 2.8879219896478525], \"z\": [3.38408437164, 3.38095471519, 3.3809330231700003, 10.14795767481, 10.14420348683, 10.15145262836, 7.894980416568797, 7.894699490118798, 7.891829068098798, 1.127092599738798, 1.129963021758798, 1.1268116732887978, 12.402100716711203, 12.401819790261202, 12.398949368241203, 5.634212899881201, 5.637083321901201, 5.633931973431203], \"mode\": \"markers\", \"name\": \"O\", \"marker\": {\"size\": 12, \"color\": \"yellow\", \"colorscale\": \"Viridis\", \"opacity\": 0.8}}], {\"margin\": {\"l\": 0, \"r\": 0, \"b\": 0, \"t\": 0}}, {\"showLink\": true, \"linkText\": \"Export to plot.ly\"})});</script>"
      ]
     },
     "metadata": {},
     "output_type": "display_data"
    }
   ],
   "source": [
    "x_al, y_al, z_al = tmp_geometry_df2.loc[tmp_geometry_df2['pierwiastek']=='Al','x'], tmp_geometry_df2.loc[tmp_geometry_df2['pierwiastek']=='Al','y'], tmp_geometry_df2.loc[tmp_geometry_df2['pierwiastek']=='Al','z']\n",
    "\n",
    "x_ga, y_ga, z_ga = tmp_geometry_df2.loc[tmp_geometry_df2['pierwiastek']=='Ga','x'], tmp_geometry_df2.loc[tmp_geometry_df2['pierwiastek']=='Ga','y'], tmp_geometry_df2.loc[tmp_geometry_df2['pierwiastek']=='Ga','z']\n",
    "\n",
    "x_in, y_in, z_in = tmp_geometry_df2.loc[tmp_geometry_df2['pierwiastek']=='In','x'], tmp_geometry_df2.loc[tmp_geometry_df2['pierwiastek']=='In','y'], tmp_geometry_df2.loc[tmp_geometry_df2['pierwiastek']=='In','z']\n",
    "\n",
    "x_o, y_o, z_o = tmp_geometry_df2.loc[tmp_geometry_df2['pierwiastek']=='O','x'], tmp_geometry_df2.loc[tmp_geometry_df2['pierwiastek']=='O','y'], tmp_geometry_df2.loc[tmp_geometry_df2['pierwiastek']=='O','z']\n",
    "\n",
    "trace1 = go.Scatter3d(\n",
    "    x=x_al,\n",
    "    y=y_al,\n",
    "    z=z_al,\n",
    "    mode='markers',\n",
    "    name='Al',\n",
    "    marker=dict(\n",
    "        size=12,\n",
    "        color='blue',                # set color to an array/list of desired values\n",
    "        colorscale='Viridis',   # choose a colorscale\n",
    "        opacity=0.8\n",
    "    )\n",
    ")\n",
    "\n",
    "\n",
    "trace2 = go.Scatter3d(\n",
    "    x=x_ga,\n",
    "    y=y_ga,\n",
    "    z=z_ga,\n",
    "    mode='markers',\n",
    "    name='Ga',\n",
    "    marker=dict(\n",
    "        size=12,\n",
    "        color='red',                # set color to an array/list of desired values\n",
    "        colorscale='Viridis',   # choose a colorscale\n",
    "        opacity=0.8\n",
    "    )\n",
    ")\n",
    "\n",
    "trace3 = go.Scatter3d(\n",
    "    x=x_in,\n",
    "    y=y_in,\n",
    "    z=z_in,\n",
    "    mode='markers',\n",
    "    name='In',\n",
    "    marker=dict(\n",
    "        size=12,\n",
    "        color='green',                # set color to an array/list of desired values\n",
    "        colorscale='Viridis',   # choose a colorscale\n",
    "        opacity=0.8\n",
    "    )\n",
    ")\n",
    "\n",
    "trace4 = go.Scatter3d(\n",
    "    x=x_o,\n",
    "    y=y_o,\n",
    "    z=z_o,\n",
    "    mode='markers',\n",
    "    name='O',\n",
    "    marker=dict(\n",
    "        size=12,\n",
    "        color='yellow',                # set color to an array/list of desired values\n",
    "        colorscale='Viridis',   # choose a colorscale\n",
    "        opacity=0.8\n",
    "    )\n",
    ")\n",
    "\n",
    "data = [trace1,trace2,trace3,trace4]\n",
    "layout = go.Layout(\n",
    "    margin=dict(\n",
    "        l=0,\n",
    "        r=0,\n",
    "        b=0,\n",
    "        t=0\n",
    "    )\n",
    ")\n",
    "fig = go.Figure(data=data, layout=layout)\n",
    "iplot(fig, filename='3d-scatter-colorscale')"
   ]
  },
  {
   "cell_type": "markdown",
   "metadata": {},
   "source": [
    "### Część Mara"
   ]
  },
  {
   "cell_type": "code",
   "execution_count": null,
   "metadata": {},
   "outputs": [],
   "source": [
    "maxV = 28\n",
    "\n",
    "minV = -2.3\n",
    "\n",
    "res = 100maxV = 28\n",
    "\n",
    "minV = -2.3\n",
    "\n",
    "res = 100\n",
    "\n",
    "5:56\n",
    "\n",
    "def matrix_pos(x):\n",
    "\n",
    "   pos_x = (x - minV)/(maxV-minV)*res\n",
    "\n",
    "   return int(pos_x)\n",
    "\n",
    "5:57\n",
    "\n",
    "el_dict = {'Al':0, 'Ga':1, 'In':2, 'O':3}\n",
    "\n",
    "A = np.zeros(3,res,res,res,4))\n",
    "\n",
    "for p in range(0, len(train_df)):\n",
    "\n",
    "   i = p+1\n",
    "\n",
    "   tmp_geometry_df = wczyt('train', i)\n",
    "\n",
    "   tmp_geometry_df2 = tmp_geometry_df.loc[tmp_geometry_df['co']=='atom']\n",
    "\n",
    "   tmp_geometry_df2['channel'] = tmp_geometry_df2['pierwiastek'].map(el_dict)\n",
    "\n",
    "   for _, pos in tmp_geometry_df2.iterrows():\n",
    "\n",
    "       A[p, matrix_pos(pos.x), matrix_pos(pos.y), matrix_pos(pos.z), pos['channel']]=+1\n",
    "\n",
    "A.shape\n",
    "\n",
    "5:57\n",
    "\n",
    "import matplotlib.pyplot as plt\n",
    "\n",
    "%matplotlib inline\n",
    "\n",
    "\n",
    "\n",
    "plt.imshow(A.sum(axis=0))"
   ]
  },
  {
   "cell_type": "markdown",
   "metadata": {},
   "source": [
    "<a id='k_model'></a>\n",
    "## Model"
   ]
  },
  {
   "cell_type": "code",
   "execution_count": 14,
   "metadata": {},
   "outputs": [],
   "source": [
    "def rmsle(yhat,y):\n",
    "    yhat = np.array(yhat)\n",
    "    y = np.array(y)\n",
    "    return np.sqrt(sum((np.log(yhat+1) - np.log(y+1))**2) / len(yhat))"
   ]
  },
  {
   "cell_type": "code",
   "execution_count": 15,
   "metadata": {},
   "outputs": [],
   "source": [
    "def obliczBlad(y_1,y_2):\n",
    "    blad_1 = rmsle(y_1,y_valid.iloc[:,0])\n",
    "    blad_2 = rmsle(y_2,y_valid.iloc[:,1])\n",
    "    wynik = (blad_1 + blad_2) / 2\n",
    "    print ('Błąd 1:', '%.4f' % blad_1\n",
    "          , 'Błąd 2:', '%.4f' % blad_2\n",
    "          , 'Średnia:', '%.4f' % wynik)"
   ]
  },
  {
   "cell_type": "markdown",
   "metadata": {},
   "source": [
    "Szympans"
   ]
  },
  {
   "cell_type": "code",
   "execution_count": 16,
   "metadata": {},
   "outputs": [
    {
     "name": "stdout",
     "output_type": "stream",
     "text": [
      "Błąd 1: 0.0882 Błąd 2: 0.3365 Średnia: 0.2124\n"
     ]
    }
   ],
   "source": [
    "obliczBlad(np.ones(len(y_valid))*y_train.iloc[:,0].mean(),np.ones(len(y_valid))*y_train.iloc[:,1].mean())"
   ]
  },
  {
   "cell_type": "markdown",
   "metadata": {},
   "source": [
    "### Dżewko regre"
   ]
  },
  {
   "cell_type": "code",
   "execution_count": 17,
   "metadata": {},
   "outputs": [],
   "source": [
    "from sklearn.tree import DecisionTreeRegressor"
   ]
  },
  {
   "cell_type": "code",
   "execution_count": 18,
   "metadata": {},
   "outputs": [],
   "source": [
    "regr_1 = DecisionTreeRegressor(max_depth=8)\n",
    "regr_1.fit(X_train, y_train.iloc[:,0])\n",
    "y_1 = regr_1.predict(X_valid)\n",
    "\n",
    "regr_2 = DecisionTreeRegressor(max_depth=8)\n",
    "regr_2.fit(X_train, y_train.iloc[:,1])\n",
    "y_2 = regr_2.predict(X_valid)"
   ]
  },
  {
   "cell_type": "code",
   "execution_count": 19,
   "metadata": {
    "scrolled": true
   },
   "outputs": [
    {
     "name": "stdout",
     "output_type": "stream",
     "text": [
      "Błąd 1: 0.0415 Błąd 2: 0.1244 Średnia: 0.0830\n"
     ]
    }
   ],
   "source": [
    "obliczBlad(y_1,y_2)"
   ]
  },
  {
   "cell_type": "markdown",
   "metadata": {},
   "source": [
    "<a id='k_eksport'></a>\n",
    "## Eksport"
   ]
  },
  {
   "cell_type": "code",
   "execution_count": 20,
   "metadata": {},
   "outputs": [],
   "source": [
    "#ostateczny_skoring = wybrany_model.predict(X_test_do_skoringu)"
   ]
  },
  {
   "cell_type": "code",
   "execution_count": 21,
   "metadata": {},
   "outputs": [],
   "source": [
    "#do_wysylki = pd.DataFrame({\n",
    "#    'PassengerId':X_test['PassengerId'],\n",
    "#    'Survived':ostateczny_skoring\n",
    "#})\n",
    "#\n",
    "#plik = 'do_wysylki.csv'\n",
    "#\n",
    "#do_wysylki.to_csv(sciezka + plik, index = False)"
   ]
  },
  {
   "cell_type": "markdown",
   "metadata": {
    "collapsed": true
   },
   "source": [
    " "
   ]
  }
 ],
 "metadata": {
  "anaconda-cloud": {},
  "kernelspec": {
   "display_name": "Python 3",
   "language": "python",
   "name": "python3"
  },
  "language_info": {
   "codemirror_mode": {
    "name": "ipython",
    "version": 3
   },
   "file_extension": ".py",
   "mimetype": "text/x-python",
   "name": "python",
   "nbconvert_exporter": "python",
   "pygments_lexer": "ipython3",
   "version": "3.6.3"
  }
 },
 "nbformat": 4,
 "nbformat_minor": 1
}
