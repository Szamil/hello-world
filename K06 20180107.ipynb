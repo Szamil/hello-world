{
 "cells": [
  {
   "cell_type": "markdown",
   "metadata": {},
   "source": [
    "# Półprzewodniki"
   ]
  },
  {
   "cell_type": "markdown",
   "metadata": {},
   "source": [
    "<ol>\n",
    "    <li>[Biblioteki i ustawienia](#k_rozruch)</li>\n",
    "    <li>[Wczyt danych](#k_wczyt)</li>\n",
    "    <li>[Mielenie](#k_mielenie)</li>\n",
    "    <li>[Model](#k_model)</li>\n",
    "    <li>[Eksport](#k_eksport)</li>\n",
    "</ol>"
   ]
  },
  {
   "cell_type": "markdown",
   "metadata": {},
   "source": [
    "<a id='k_rozruch'></a>\n",
    "## Biblioteki i ustawienia"
   ]
  },
  {
   "cell_type": "code",
   "execution_count": 1,
   "metadata": {},
   "outputs": [],
   "source": [
    "import pandas as pd\n",
    "import numpy as np\n",
    "\n",
    "from sklearn.model_selection import train_test_split"
   ]
  },
  {
   "cell_type": "code",
   "execution_count": 2,
   "metadata": {
    "collapsed": true
   },
   "outputs": [],
   "source": [
    "SEED = 26"
   ]
  },
  {
   "cell_type": "markdown",
   "metadata": {},
   "source": [
    "<a id='k_wczyt'></a>\n",
    "## Wczyt danych"
   ]
  },
  {
   "cell_type": "code",
   "execution_count": 3,
   "metadata": {},
   "outputs": [],
   "source": [
    "sciezka = 'C:/Users/Szamil/Documents/Projekty/Dejta_Sajens/K06_polprzewodniki/'\n",
    "plik = 'train.csv'\n",
    "\n",
    "train_df = pd.read_csv(sciezka + plik)\n",
    "\n",
    "plik = 'test.csv'\n",
    "\n",
    "test_df = pd.read_csv(sciezka + plik)"
   ]
  },
  {
   "cell_type": "code",
   "execution_count": 4,
   "metadata": {},
   "outputs": [
    {
     "data": {
      "text/html": [
       "<div>\n",
       "<table border=\"1\" class=\"dataframe\">\n",
       "  <thead>\n",
       "    <tr style=\"text-align: right;\">\n",
       "      <th></th>\n",
       "      <th>id</th>\n",
       "      <th>spacegroup</th>\n",
       "      <th>number_of_total_atoms</th>\n",
       "      <th>percent_atom_al</th>\n",
       "      <th>percent_atom_ga</th>\n",
       "      <th>percent_atom_in</th>\n",
       "      <th>lattice_vector_1_ang</th>\n",
       "      <th>lattice_vector_2_ang</th>\n",
       "      <th>lattice_vector_3_ang</th>\n",
       "      <th>lattice_angle_alpha_degree</th>\n",
       "      <th>lattice_angle_beta_degree</th>\n",
       "      <th>lattice_angle_gamma_degree</th>\n",
       "      <th>formation_energy_ev_natom</th>\n",
       "      <th>bandgap_energy_ev</th>\n",
       "    </tr>\n",
       "  </thead>\n",
       "  <tbody>\n",
       "    <tr>\n",
       "      <th>0</th>\n",
       "      <td>1</td>\n",
       "      <td>33</td>\n",
       "      <td>80.0</td>\n",
       "      <td>0.6250</td>\n",
       "      <td>0.3750</td>\n",
       "      <td>0.000</td>\n",
       "      <td>9.9523</td>\n",
       "      <td>8.5513</td>\n",
       "      <td>9.1775</td>\n",
       "      <td>90.0026</td>\n",
       "      <td>90.0023</td>\n",
       "      <td>90.0017</td>\n",
       "      <td>0.0680</td>\n",
       "      <td>3.4387</td>\n",
       "    </tr>\n",
       "    <tr>\n",
       "      <th>1</th>\n",
       "      <td>2</td>\n",
       "      <td>194</td>\n",
       "      <td>80.0</td>\n",
       "      <td>0.6250</td>\n",
       "      <td>0.3750</td>\n",
       "      <td>0.000</td>\n",
       "      <td>6.1840</td>\n",
       "      <td>6.1838</td>\n",
       "      <td>23.6287</td>\n",
       "      <td>90.0186</td>\n",
       "      <td>89.9980</td>\n",
       "      <td>120.0025</td>\n",
       "      <td>0.2490</td>\n",
       "      <td>2.9210</td>\n",
       "    </tr>\n",
       "    <tr>\n",
       "      <th>2</th>\n",
       "      <td>3</td>\n",
       "      <td>227</td>\n",
       "      <td>40.0</td>\n",
       "      <td>0.8125</td>\n",
       "      <td>0.1875</td>\n",
       "      <td>0.000</td>\n",
       "      <td>9.7510</td>\n",
       "      <td>5.6595</td>\n",
       "      <td>13.9630</td>\n",
       "      <td>90.9688</td>\n",
       "      <td>91.1228</td>\n",
       "      <td>30.5185</td>\n",
       "      <td>0.1821</td>\n",
       "      <td>2.7438</td>\n",
       "    </tr>\n",
       "    <tr>\n",
       "      <th>3</th>\n",
       "      <td>4</td>\n",
       "      <td>167</td>\n",
       "      <td>30.0</td>\n",
       "      <td>0.7500</td>\n",
       "      <td>0.0000</td>\n",
       "      <td>0.250</td>\n",
       "      <td>5.0036</td>\n",
       "      <td>5.0034</td>\n",
       "      <td>13.5318</td>\n",
       "      <td>89.9888</td>\n",
       "      <td>90.0119</td>\n",
       "      <td>120.0017</td>\n",
       "      <td>0.2172</td>\n",
       "      <td>3.3492</td>\n",
       "    </tr>\n",
       "    <tr>\n",
       "      <th>4</th>\n",
       "      <td>5</td>\n",
       "      <td>194</td>\n",
       "      <td>80.0</td>\n",
       "      <td>0.0000</td>\n",
       "      <td>0.6250</td>\n",
       "      <td>0.375</td>\n",
       "      <td>6.6614</td>\n",
       "      <td>6.6612</td>\n",
       "      <td>24.5813</td>\n",
       "      <td>89.9960</td>\n",
       "      <td>90.0006</td>\n",
       "      <td>119.9893</td>\n",
       "      <td>0.0505</td>\n",
       "      <td>1.3793</td>\n",
       "    </tr>\n",
       "  </tbody>\n",
       "</table>\n",
       "</div>"
      ],
      "text/plain": [
       "   id  spacegroup  number_of_total_atoms  percent_atom_al  percent_atom_ga  \\\n",
       "0   1          33                   80.0           0.6250           0.3750   \n",
       "1   2         194                   80.0           0.6250           0.3750   \n",
       "2   3         227                   40.0           0.8125           0.1875   \n",
       "3   4         167                   30.0           0.7500           0.0000   \n",
       "4   5         194                   80.0           0.0000           0.6250   \n",
       "\n",
       "   percent_atom_in  lattice_vector_1_ang  lattice_vector_2_ang  \\\n",
       "0            0.000                9.9523                8.5513   \n",
       "1            0.000                6.1840                6.1838   \n",
       "2            0.000                9.7510                5.6595   \n",
       "3            0.250                5.0036                5.0034   \n",
       "4            0.375                6.6614                6.6612   \n",
       "\n",
       "   lattice_vector_3_ang  lattice_angle_alpha_degree  \\\n",
       "0                9.1775                     90.0026   \n",
       "1               23.6287                     90.0186   \n",
       "2               13.9630                     90.9688   \n",
       "3               13.5318                     89.9888   \n",
       "4               24.5813                     89.9960   \n",
       "\n",
       "   lattice_angle_beta_degree  lattice_angle_gamma_degree  \\\n",
       "0                    90.0023                     90.0017   \n",
       "1                    89.9980                    120.0025   \n",
       "2                    91.1228                     30.5185   \n",
       "3                    90.0119                    120.0017   \n",
       "4                    90.0006                    119.9893   \n",
       "\n",
       "   formation_energy_ev_natom  bandgap_energy_ev  \n",
       "0                     0.0680             3.4387  \n",
       "1                     0.2490             2.9210  \n",
       "2                     0.1821             2.7438  \n",
       "3                     0.2172             3.3492  \n",
       "4                     0.0505             1.3793  "
      ]
     },
     "execution_count": 4,
     "metadata": {},
     "output_type": "execute_result"
    }
   ],
   "source": [
    "train_df.head()"
   ]
  },
  {
   "cell_type": "code",
   "execution_count": 5,
   "metadata": {
    "scrolled": true
   },
   "outputs": [
    {
     "data": {
      "text/plain": [
       "((2400, 14), (600, 12))"
      ]
     },
     "execution_count": 5,
     "metadata": {},
     "output_type": "execute_result"
    }
   ],
   "source": [
    "train_df.shape, test_df.shape"
   ]
  },
  {
   "cell_type": "code",
   "execution_count": 5,
   "metadata": {
    "scrolled": true
   },
   "outputs": [
    {
     "name": "stdout",
     "output_type": "stream",
     "text": [
      "<class 'pandas.core.frame.DataFrame'>\n",
      "RangeIndex: 2400 entries, 0 to 2399\n",
      "Data columns (total 14 columns):\n",
      "id                            2400 non-null int64\n",
      "spacegroup                    2400 non-null int64\n",
      "number_of_total_atoms         2400 non-null float64\n",
      "percent_atom_al               2400 non-null float64\n",
      "percent_atom_ga               2400 non-null float64\n",
      "percent_atom_in               2400 non-null float64\n",
      "lattice_vector_1_ang          2400 non-null float64\n",
      "lattice_vector_2_ang          2400 non-null float64\n",
      "lattice_vector_3_ang          2400 non-null float64\n",
      "lattice_angle_alpha_degree    2400 non-null float64\n",
      "lattice_angle_beta_degree     2400 non-null float64\n",
      "lattice_angle_gamma_degree    2400 non-null float64\n",
      "formation_energy_ev_natom     2400 non-null float64\n",
      "bandgap_energy_ev             2400 non-null float64\n",
      "dtypes: float64(12), int64(2)\n",
      "memory usage: 262.6 KB\n"
     ]
    }
   ],
   "source": [
    "train_df.info(True, null_counts=True)"
   ]
  },
  {
   "cell_type": "code",
   "execution_count": 7,
   "metadata": {
    "collapsed": true
   },
   "outputs": [
    {
     "name": "stdout",
     "output_type": "stream",
     "text": [
      "<class 'pandas.core.frame.DataFrame'>\n",
      "RangeIndex: 600 entries, 0 to 599\n",
      "Data columns (total 12 columns):\n",
      "id                            600 non-null int64\n",
      "spacegroup                    600 non-null int64\n",
      "number_of_total_atoms         600 non-null float64\n",
      "percent_atom_al               600 non-null float64\n",
      "percent_atom_ga               600 non-null float64\n",
      "percent_atom_in               600 non-null float64\n",
      "lattice_vector_1_ang          600 non-null float64\n",
      "lattice_vector_2_ang          600 non-null float64\n",
      "lattice_vector_3_ang          600 non-null float64\n",
      "lattice_angle_alpha_degree    600 non-null float64\n",
      "lattice_angle_beta_degree     600 non-null float64\n",
      "lattice_angle_gamma_degree    600 non-null float64\n",
      "dtypes: float64(10), int64(2)\n",
      "memory usage: 56.3 KB\n"
     ]
    }
   ],
   "source": [
    "test_df.info(True, null_counts=True)"
   ]
  },
  {
   "cell_type": "markdown",
   "metadata": {},
   "source": [
    "<a id='k_mielenie'></a>\n",
    "## Mielenie"
   ]
  },
  {
   "cell_type": "code",
   "execution_count": 6,
   "metadata": {},
   "outputs": [
    {
     "data": {
      "text/plain": [
       "((1920, 11), (480, 11), (600, 11), (1920, 2), (480, 2))"
      ]
     },
     "execution_count": 6,
     "metadata": {},
     "output_type": "execute_result"
    }
   ],
   "source": [
    "# Podzial na uczacy, walidacyjny i testowy\n",
    "\n",
    "X_train, X_valid, y_train, y_valid = train_test_split(train_df.iloc[:,1:12], train_df.iloc[:,12:], test_size=0.2, random_state=SEED)\n",
    "\n",
    "X_test = test_df.iloc[:,1:]\n",
    "\n",
    "X_train.shape, X_valid.shape, X_test.shape, y_train.shape, y_valid.shape"
   ]
  },
  {
   "cell_type": "markdown",
   "metadata": {},
   "source": [
    "<a id='k_model'></a>\n",
    "## Model"
   ]
  },
  {
   "cell_type": "code",
   "execution_count": 1,
   "metadata": {},
   "outputs": [
    {
     "ename": "ImportError",
     "evalue": "cannot import name '_LearntSelectorMixin'",
     "output_type": "error",
     "traceback": [
      "\u001b[0;31m---------------------------------------------------------------------------\u001b[0m",
      "\u001b[0;31mImportError\u001b[0m                               Traceback (most recent call last)",
      "\u001b[0;32m<ipython-input-1-72e6b857b784>\u001b[0m in \u001b[0;36m<module>\u001b[0;34m()\u001b[0m\n\u001b[0;32m----> 1\u001b[0;31m \u001b[1;32mfrom\u001b[0m \u001b[0msklearn\u001b[0m\u001b[1;33m.\u001b[0m\u001b[0mtree\u001b[0m \u001b[1;32mimport\u001b[0m \u001b[0mDecisionTreeRegressor\u001b[0m\u001b[1;33m\u001b[0m\u001b[0m\n\u001b[0m",
      "\u001b[0;32mC:\\Users\\Szamil\\Anaconda3\\lib\\site-packages\\sklearn\\tree\\__init__.py\u001b[0m in \u001b[0;36m<module>\u001b[0;34m()\u001b[0m\n\u001b[1;32m      4\u001b[0m \"\"\"\n\u001b[1;32m      5\u001b[0m \u001b[1;33m\u001b[0m\u001b[0m\n\u001b[0;32m----> 6\u001b[0;31m \u001b[1;32mfrom\u001b[0m \u001b[1;33m.\u001b[0m\u001b[0mtree\u001b[0m \u001b[1;32mimport\u001b[0m \u001b[0mDecisionTreeClassifier\u001b[0m\u001b[1;33m\u001b[0m\u001b[0m\n\u001b[0m\u001b[1;32m      7\u001b[0m \u001b[1;32mfrom\u001b[0m \u001b[1;33m.\u001b[0m\u001b[0mtree\u001b[0m \u001b[1;32mimport\u001b[0m \u001b[0mDecisionTreeRegressor\u001b[0m\u001b[1;33m\u001b[0m\u001b[0m\n\u001b[1;32m      8\u001b[0m \u001b[1;32mfrom\u001b[0m \u001b[1;33m.\u001b[0m\u001b[0mtree\u001b[0m \u001b[1;32mimport\u001b[0m \u001b[0mExtraTreeClassifier\u001b[0m\u001b[1;33m\u001b[0m\u001b[0m\n",
      "\u001b[0;32mC:\\Users\\Szamil\\Anaconda3\\lib\\site-packages\\sklearn\\tree\\tree.py\u001b[0m in \u001b[0;36m<module>\u001b[0;34m()\u001b[0m\n\u001b[1;32m     30\u001b[0m \u001b[1;32mfrom\u001b[0m \u001b[1;33m.\u001b[0m\u001b[1;33m.\u001b[0m\u001b[0mbase\u001b[0m \u001b[1;32mimport\u001b[0m \u001b[0mRegressorMixin\u001b[0m\u001b[1;33m\u001b[0m\u001b[0m\n\u001b[1;32m     31\u001b[0m \u001b[1;32mfrom\u001b[0m \u001b[1;33m.\u001b[0m\u001b[1;33m.\u001b[0m\u001b[0mexternals\u001b[0m \u001b[1;32mimport\u001b[0m \u001b[0msix\u001b[0m\u001b[1;33m\u001b[0m\u001b[0m\n\u001b[0;32m---> 32\u001b[0;31m \u001b[1;32mfrom\u001b[0m \u001b[1;33m.\u001b[0m\u001b[1;33m.\u001b[0m\u001b[0mfeature_selection\u001b[0m\u001b[1;33m.\u001b[0m\u001b[0mfrom_model\u001b[0m \u001b[1;32mimport\u001b[0m \u001b[0m_LearntSelectorMixin\u001b[0m\u001b[1;33m\u001b[0m\u001b[0m\n\u001b[0m\u001b[1;32m     33\u001b[0m \u001b[1;32mfrom\u001b[0m \u001b[1;33m.\u001b[0m\u001b[1;33m.\u001b[0m\u001b[0mutils\u001b[0m \u001b[1;32mimport\u001b[0m \u001b[0mcheck_array\u001b[0m\u001b[1;33m\u001b[0m\u001b[0m\n\u001b[1;32m     34\u001b[0m \u001b[1;32mfrom\u001b[0m \u001b[1;33m.\u001b[0m\u001b[1;33m.\u001b[0m\u001b[0mutils\u001b[0m \u001b[1;32mimport\u001b[0m \u001b[0mcheck_random_state\u001b[0m\u001b[1;33m\u001b[0m\u001b[0m\n",
      "\u001b[0;31mImportError\u001b[0m: cannot import name '_LearntSelectorMixin'"
     ]
    }
   ],
   "source": [
    "from sklearn.tree import DecisionTreeRegressor"
   ]
  },
  {
   "cell_type": "code",
   "execution_count": null,
   "metadata": {},
   "outputs": [],
   "source": [
    "regr_1 = DecisionTreeRegressor(max_depth=2)\n",
    "regr_1.fit(X_train, y_train.iloc[:,0])\n",
    "y_1 = regr_1.predict(X_valid)\n",
    "\n",
    "regr_2 = DecisionTreeRegressor(max_depth=2)\n",
    "regr_2.fit(X_train, y_train.iloc[:,1])\n",
    "y_2 = regr_2.predict(X_valid)"
   ]
  },
  {
   "cell_type": "code",
   "execution_count": 10,
   "metadata": {},
   "outputs": [],
   "source": [
    "def rmsle(yhat,y):\n",
    "    return sum((yhat - y)^2) / len(yhat)"
   ]
  },
  {
   "cell_type": "code",
   "execution_count": 24,
   "metadata": {},
   "outputs": [
    {
     "name": "stdout",
     "output_type": "stream",
     "text": [
      "Collecting scikit-learn\n",
      "  Downloading scikit_learn-0.19.1-cp35-cp35m-win_amd64.whl (4.3MB)\n",
      "Installing collected packages: scikit-learn\n",
      "  Found existing installation: scikit-learn 0.18.1\n",
      "    Uninstalling scikit-learn-0.18.1:\n",
      "      Successfully uninstalled scikit-learn-0.18.1\n",
      "  Rolling back uninstall of scikit-learn\n"
     ]
    },
    {
     "name": "stderr",
     "output_type": "stream",
     "text": [
      "    DEPRECATION: Uninstalling a distutils installed project (scikit-learn) has been deprecated and will be removed in a future version. This is due to the fact that uninstalling a distutils project will only partially uninstall the project.\n",
      "Exception:\n",
      "Traceback (most recent call last):\n",
      "  File \"c:\\users\\szamil\\anaconda3\\lib\\site-packages\\pip\\basecommand.py\", line 215, in main\n",
      "    status = self.run(options, args)\n",
      "  File \"c:\\users\\szamil\\anaconda3\\lib\\site-packages\\pip\\commands\\install.py\", line 342, in run\n",
      "    prefix=options.prefix_path,\n",
      "  File \"c:\\users\\szamil\\anaconda3\\lib\\site-packages\\pip\\req\\req_set.py\", line 784, in install\n",
      "    **kwargs\n",
      "  File \"c:\\users\\szamil\\anaconda3\\lib\\site-packages\\pip\\req\\req_install.py\", line 851, in install\n",
      "    self.move_wheel_files(self.source_dir, root=root, prefix=prefix)\n",
      "  File \"c:\\users\\szamil\\anaconda3\\lib\\site-packages\\pip\\req\\req_install.py\", line 1064, in move_wheel_files\n",
      "    isolated=self.isolated,\n",
      "  File \"c:\\users\\szamil\\anaconda3\\lib\\site-packages\\pip\\wheel.py\", line 345, in move_wheel_files\n",
      "    clobber(source, lib_dir, True)\n",
      "  File \"c:\\users\\szamil\\anaconda3\\lib\\site-packages\\pip\\wheel.py\", line 323, in clobber\n",
      "    shutil.copyfile(srcfile, destfile)\n",
      "  File \"c:\\users\\szamil\\anaconda3\\lib\\shutil.py\", line 115, in copyfile\n",
      "    with open(dst, 'wb') as fdst:\n",
      "PermissionError: [Errno 13] Permission denied: 'c:\\\\users\\\\szamil\\\\anaconda3\\\\Lib\\\\site-packages\\\\sklearn\\\\metrics\\\\pairwise_fast.cp35-win_amd64.pyd'\n"
     ]
    }
   ],
   "source": [
    "!pip install scikit-learn --upgrade"
   ]
  },
  {
   "cell_type": "code",
   "execution_count": 22,
   "metadata": {},
   "outputs": [
    {
     "data": {
      "text/plain": [
       "array([ 2.41289431,  1.76105699,  1.11960438,  1.76105699,  1.76105699,\n",
       "        3.31707842,  1.76105699,  3.31707842,  1.11960438,  1.11960438,\n",
       "        1.11960438,  2.41289431,  3.31707842,  1.76105699,  2.41289431,\n",
       "        2.41289431,  1.76105699,  1.76105699,  3.31707842,  3.31707842,\n",
       "        2.41289431,  2.41289431,  1.11960438,  2.41289431,  2.41289431,\n",
       "        2.41289431,  2.41289431,  1.11960438,  1.11960438,  3.31707842,\n",
       "        1.76105699,  2.41289431,  1.11960438,  1.11960438,  2.41289431,\n",
       "        1.76105699,  1.76105699,  2.41289431,  3.31707842,  1.76105699,\n",
       "        3.31707842,  2.41289431,  2.41289431,  2.41289431,  1.11960438,\n",
       "        2.41289431,  1.11960438,  2.41289431,  1.11960438,  2.41289431,\n",
       "        1.11960438,  3.31707842,  1.11960438,  1.11960438,  1.76105699,\n",
       "        1.11960438,  1.76105699,  1.11960438,  1.11960438,  1.76105699,\n",
       "        1.11960438,  2.41289431,  3.31707842,  1.11960438,  1.76105699,\n",
       "        2.41289431,  1.11960438,  2.41289431,  1.11960438,  1.11960438,\n",
       "        1.11960438,  1.11960438,  3.31707842,  2.41289431,  1.11960438,\n",
       "        3.31707842,  1.11960438,  1.11960438,  1.11960438,  1.76105699,\n",
       "        1.11960438,  2.41289431,  1.11960438,  3.31707842,  3.31707842,\n",
       "        2.41289431,  3.31707842,  3.31707842,  2.41289431,  3.31707842,\n",
       "        1.11960438,  1.76105699,  1.11960438,  1.11960438,  1.76105699,\n",
       "        2.41289431,  1.76105699,  3.31707842,  1.11960438,  1.76105699,\n",
       "        1.76105699,  1.76105699,  2.41289431,  1.11960438,  2.41289431,\n",
       "        3.31707842,  3.31707842,  1.11960438,  1.11960438,  2.41289431,\n",
       "        1.11960438,  1.11960438,  3.31707842,  3.31707842,  2.41289431,\n",
       "        1.11960438,  1.11960438,  2.41289431,  1.11960438,  3.31707842,\n",
       "        3.31707842,  1.11960438,  3.31707842,  3.31707842,  3.31707842,\n",
       "        1.11960438,  1.11960438,  1.11960438,  2.41289431,  1.11960438,\n",
       "        1.76105699,  3.31707842,  1.11960438,  1.11960438,  2.41289431,\n",
       "        1.76105699,  2.41289431,  2.41289431,  2.41289431,  3.31707842,\n",
       "        1.11960438,  3.31707842,  1.11960438,  1.11960438,  1.11960438,\n",
       "        2.41289431,  2.41289431,  1.11960438,  3.31707842,  3.31707842,\n",
       "        2.41289431,  2.41289431,  1.11960438,  1.11960438,  1.11960438,\n",
       "        1.11960438,  3.31707842,  2.41289431,  1.11960438,  1.11960438,\n",
       "        1.11960438,  1.11960438,  2.41289431,  2.41289431,  1.11960438,\n",
       "        3.31707842,  2.41289431,  1.76105699,  1.11960438,  1.76105699,\n",
       "        1.76105699,  2.41289431,  3.31707842,  3.31707842,  1.11960438,\n",
       "        2.41289431,  3.31707842,  1.11960438,  1.76105699,  1.76105699,\n",
       "        1.76105699,  1.11960438,  2.41289431,  1.11960438,  1.11960438,\n",
       "        1.11960438,  3.31707842,  3.31707842,  1.76105699,  1.11960438,\n",
       "        3.31707842,  1.11960438,  2.41289431,  1.76105699,  3.31707842,\n",
       "        1.76105699,  3.31707842,  3.31707842,  1.11960438,  3.31707842,\n",
       "        3.31707842,  2.41289431,  2.41289431,  3.31707842,  2.41289431,\n",
       "        1.76105699,  1.11960438,  3.31707842,  1.76105699,  2.41289431,\n",
       "        3.31707842,  1.11960438,  1.11960438,  1.76105699,  2.41289431,\n",
       "        1.11960438,  3.31707842,  1.11960438,  2.41289431,  1.11960438,\n",
       "        3.31707842,  2.41289431,  2.41289431,  2.41289431,  1.11960438,\n",
       "        3.31707842,  1.76105699,  2.41289431,  1.11960438,  1.76105699,\n",
       "        3.31707842,  3.31707842,  1.11960438,  2.41289431,  2.41289431,\n",
       "        2.41289431,  3.31707842,  1.11960438,  1.11960438,  1.11960438,\n",
       "        1.11960438,  3.31707842,  2.41289431,  2.41289431,  1.11960438,\n",
       "        2.41289431,  1.76105699,  1.11960438,  2.41289431,  3.31707842,\n",
       "        2.41289431,  3.31707842,  1.11960438,  1.11960438,  1.76105699,\n",
       "        1.76105699,  3.31707842,  2.41289431,  1.11960438,  2.41289431,\n",
       "        2.41289431,  1.76105699,  2.41289431,  3.31707842,  3.31707842,\n",
       "        2.41289431,  3.31707842,  1.76105699,  1.11960438,  1.11960438,\n",
       "        2.41289431,  2.41289431,  1.11960438,  1.11960438,  1.11960438,\n",
       "        1.76105699,  3.31707842,  3.31707842,  3.31707842,  3.31707842,\n",
       "        1.11960438,  1.11960438,  2.41289431,  3.31707842,  2.41289431,\n",
       "        1.11960438,  3.31707842,  1.76105699,  2.41289431,  1.76105699,\n",
       "        1.11960438,  2.41289431,  3.31707842,  1.76105699,  1.11960438,\n",
       "        1.76105699,  3.31707842,  1.11960438,  3.31707842,  1.76105699,\n",
       "        3.31707842,  1.76105699,  1.76105699,  1.11960438,  1.76105699,\n",
       "        2.41289431,  3.31707842,  1.76105699,  2.41289431,  1.11960438,\n",
       "        1.11960438,  3.31707842,  2.41289431,  2.41289431,  2.41289431,\n",
       "        1.76105699,  1.11960438,  2.41289431,  1.76105699,  2.41289431,\n",
       "        1.11960438,  2.41289431,  2.41289431,  1.11960438,  1.11960438,\n",
       "        1.11960438,  1.11960438,  3.31707842,  3.31707842,  1.11960438,\n",
       "        3.31707842,  2.41289431,  2.41289431,  2.41289431,  1.76105699,\n",
       "        1.76105699,  2.41289431,  2.41289431,  2.41289431,  1.11960438,\n",
       "        2.41289431,  3.31707842,  1.76105699,  2.41289431,  1.11960438,\n",
       "        1.76105699,  1.11960438,  1.11960438,  1.76105699,  1.11960438,\n",
       "        2.41289431,  1.11960438,  1.76105699,  3.31707842,  1.11960438,\n",
       "        3.31707842,  1.11960438,  3.31707842,  2.41289431,  1.11960438,\n",
       "        2.41289431,  1.76105699,  1.11960438,  1.76105699,  3.31707842,\n",
       "        1.11960438,  1.11960438,  2.41289431,  3.31707842,  3.31707842,\n",
       "        1.76105699,  1.76105699,  1.76105699,  1.76105699,  1.11960438,\n",
       "        1.11960438,  2.41289431,  2.41289431,  2.41289431,  2.41289431,\n",
       "        1.76105699,  1.11960438,  2.41289431,  2.41289431,  1.11960438,\n",
       "        1.76105699,  2.41289431,  1.11960438,  3.31707842,  3.31707842,\n",
       "        3.31707842,  2.41289431,  1.76105699,  2.41289431,  1.76105699,\n",
       "        2.41289431,  1.76105699,  1.11960438,  3.31707842,  3.31707842,\n",
       "        1.11960438,  2.41289431,  1.11960438,  1.76105699,  2.41289431,\n",
       "        2.41289431,  1.11960438,  1.76105699,  3.31707842,  2.41289431,\n",
       "        1.11960438,  2.41289431,  2.41289431,  1.11960438,  1.11960438,\n",
       "        3.31707842,  1.76105699,  1.11960438,  2.41289431,  1.11960438,\n",
       "        3.31707842,  3.31707842,  1.11960438,  1.11960438,  1.76105699,\n",
       "        2.41289431,  2.41289431,  2.41289431,  3.31707842,  3.31707842,\n",
       "        1.11960438,  2.41289431,  2.41289431,  1.11960438,  2.41289431,\n",
       "        2.41289431,  1.11960438,  1.11960438,  1.11960438,  1.11960438,\n",
       "        3.31707842,  1.11960438,  2.41289431,  2.41289431,  3.31707842,\n",
       "        2.41289431,  3.31707842,  2.41289431,  3.31707842,  1.76105699,\n",
       "        1.11960438,  3.31707842,  1.11960438,  1.11960438,  1.11960438,\n",
       "        1.11960438,  3.31707842,  2.41289431,  3.31707842,  2.41289431,\n",
       "        2.41289431,  2.41289431,  2.41289431,  1.11960438,  1.76105699,\n",
       "        1.11960438,  2.41289431,  1.11960438,  1.11960438,  1.11960438,\n",
       "        2.41289431,  3.31707842,  2.41289431,  2.41289431,  2.41289431,\n",
       "        2.41289431,  2.41289431,  2.41289431,  1.11960438,  1.11960438])"
      ]
     },
     "execution_count": 22,
     "metadata": {},
     "output_type": "execute_result"
    }
   ],
   "source": [
    "y_2"
   ]
  },
  {
   "cell_type": "markdown",
   "metadata": {},
   "source": [
    "<a id='k_eksport'></a>\n",
    "## Eksport"
   ]
  },
  {
   "cell_type": "code",
   "execution_count": 42,
   "metadata": {},
   "outputs": [],
   "source": [
    "plik = 'submission_candidate_3.csv'\n",
    "\n",
    "train_df.to_csv(sciezka + plik, index = False)"
   ]
  },
  {
   "cell_type": "markdown",
   "metadata": {
    "collapsed": true
   },
   "source": [
    " "
   ]
  }
 ],
 "metadata": {
  "anaconda-cloud": {},
  "kernelspec": {
   "display_name": "Python 3",
   "language": "python",
   "name": "python3"
  },
  "language_info": {
   "codemirror_mode": {
    "name": "ipython",
    "version": 3
   },
   "file_extension": ".py",
   "mimetype": "text/x-python",
   "name": "python",
   "nbconvert_exporter": "python",
   "pygments_lexer": "ipython3",
   "version": "3.6.3"
  }
 },
 "nbformat": 4,
 "nbformat_minor": 1
}
